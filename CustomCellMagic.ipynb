{
 "cells": [
  {
   "cell_type": "markdown",
   "id": "2f607d4e-4d50-43d1-b90f-8fb1a6b1b2b4",
   "metadata": {},
   "source": [
    "# Method one \n",
    "\n",
    "Script method\n",
    "\n",
    "simple example to add line numbers and an appended print file at end"
   ]
  },
  {
   "cell_type": "code",
   "execution_count": 5,
   "id": "d5bf2f18-4b87-4b95-b28d-b07e8b9be695",
   "metadata": {},
   "outputs": [
    {
     "name": "stdout",
     "output_type": "stream",
     "text": [
      "Overwriting lnum.py\n"
     ]
    }
   ],
   "source": [
    "%%writefile lnum.py\n",
    "#!/usr/bin/env python3\n",
    "import sys\n",
    "\n",
    "i = 0\n",
    "for line in sys.stdin:\n",
    "    print(i, line)\n",
    "    i += 1\n",
    "print(\"--- END ---\")  \n"
   ]
  },
  {
   "cell_type": "code",
   "execution_count": 6,
   "id": "b44a3717-53fc-4574-bec8-6c16e51e8f96",
   "metadata": {},
   "outputs": [
    {
     "name": "stdout",
     "output_type": "stream",
     "text": [
      "0 my first line\n",
      "\n",
      "1 my second\n",
      "\n",
      "2 more\n",
      "\n",
      "--- END ---\n"
     ]
    }
   ],
   "source": [
    "%%script ./lnum.py \n",
    "my first line\n",
    "my second\n",
    "more"
   ]
  },
  {
   "cell_type": "markdown",
   "id": "4276813e-3a08-4f36-9b31-404138e35894",
   "metadata": {},
   "source": [
    "# Method two - custom cell magic\n",
    "\n",
    "code will be written to writefile **IntelDevcloud_ext.py**\n",
    "it only needs to be written once per project\n",
    "\n",
    "use the @cell_magic decorator for any function you cell magic you want to name "
   ]
  },
  {
   "cell_type": "code",
   "execution_count": 1,
   "id": "14cf1c18-b3bf-4405-a889-2ed772686fa0",
   "metadata": {},
   "outputs": [
    {
     "name": "stdout",
     "output_type": "stream",
     "text": [
      "Writing IntelDevcloud_ext.py\n"
     ]
    }
   ],
   "source": [
    "%%writefile IntelDevcloud_ext.py\n",
    "import sys\n",
    "import os\n",
    "@cell_magic\n",
    "def IntelDevcloud_Ext_Test(line, cell):\n",
    "    with open(line, 'w') as f:\n",
    "        for L in cell.split('\\n'):\n",
    "            f.write(L)\n",
    "        os.system('chmod 755 q; chmod 755 run_kmeans_kernel.sh; if [ -x \"$(command -v qsub)\" ]; then ./q  run_kmeans_kernel.sh; else ./run_kmeans_kernel.sh; fi') \n",
    "    \n",
    "def IntelDevcloud_Ext(line, cell):\n",
    "    print(line)\n",
    "    import sys\n",
    "    i = 1\n",
    "    for L in cell.split('\\n'):\n",
    "        print(i,L)\n",
    "        i += 1\n",
    "    print(\"--- END ---\")\n",
    "    \n",
    "def load_ipython_extension(ipython):\n",
    "    \"\"\"This function is called when the extension is\n",
    "    loaded. It accepts an IPython InteractiveShell\n",
    "    instance. We can register the magic with the\n",
    "    `register_magic_function` method of the shell\n",
    "    instance.\"\"\"\n",
    "    ipython.register_magic_function(IntelDevcloud_Ext_Test, 'cell')"
   ]
  },
  {
   "cell_type": "code",
   "execution_count": 30,
   "id": "ace83767-419f-467c-a846-4c88bde9ace0",
   "metadata": {},
   "outputs": [],
   "source": [
    "%reload_ext IntelDevcloud_ext"
   ]
  },
  {
   "cell_type": "code",
   "execution_count": 14,
   "id": "1b2d4e80-d3d3-4edc-bbc0-f6b8a017c8bb",
   "metadata": {},
   "outputs": [
    {
     "name": "stdout",
     "output_type": "stream",
     "text": [
      "bob.py\n",
      "1 sdf\n",
      "2 sf\n",
      "3 aaaaaaa\n",
      "4 \n",
      "--- END ---\n"
     ]
    }
   ],
   "source": [
    "%%IntelDevcloud_Ext bob.py\n",
    "sdf\n",
    "sf\n",
    "aaaaaaa"
   ]
  },
  {
   "cell_type": "code",
   "execution_count": null,
   "id": "9a1bdd40-3821-4f33-aefb-bbb652fd66cf",
   "metadata": {},
   "outputs": [],
   "source": []
  },
  {
   "cell_type": "code",
   "execution_count": 34,
   "id": "ea37f540-d9a7-4d40-9130-724a80fd68d6",
   "metadata": {},
   "outputs": [
    {
     "name": "stderr",
     "output_type": "stream",
     "text": [
      "chmod: cannot access 'q': No such file or directory\n",
      "chmod: cannot access 'run_kmeans_kernel.sh': No such file or directory\n",
      "sh: 1: ./q: not found\n"
     ]
    }
   ],
   "source": [
    "%%IntelDevcloud_Ext_Test scikit-learn-intelex_Essentials/02_scikit-learn-intelex_Kmeans/lab/kmeans_spmd.py\n",
    "#===============================================================================\n",
    "# Copyright 2014-2021 Intel Corporation\n",
    "#\n",
    "# Licensed under the Apache License, Version 2.0 (the \"License\");\n",
    "# you may not use this file except in compliance with the License.\n",
    "# You may obtain a copy of the License at\n",
    "#\n",
    "#     http://www.apache.org/licenses/LICENSE-2.0\n",
    "#\n",
    "# Unless required by applicable law or agreed to in writing, software\n",
    "# distributed under the License is distributed on an \"AS IS\" BASIS,\n",
    "# WITHOUT WARRANTIES OR CONDITIONS OF ANY KIND, either express or implied.\n",
    "# See the License for the specific language governing permissions and\n",
    "# limitations under the License.\n",
    "#===============================================================================\n",
    "\n",
    "# daal4py K-Means example for distributed memory systems; SPMD mode\n",
    "# run like this:\n",
    "#    mpirun -n 4 python ./kmeans_spmd.py\n",
    "\n",
    "import daal4py as d4p\n",
    "from numpy import loadtxt\n",
    "\n",
    "\n",
    "def main(method='plusPlusDense'):\n",
    "    infile = \"./data/distributed/kmeans_dense.csv\"\n",
    "    nClusters = 10\n",
    "    maxIter = 25\n",
    "\n",
    "    # configure a kmeans-init\n",
    "    init_algo = d4p.kmeans_init(nClusters, method=method, distributed=True)\n",
    "    # Load the data\n",
    "    data = loadtxt(infile, delimiter=',')\n",
    "    # now slice the data,\n",
    "    # it would have been better to read only what we need, of course...\n",
    "    rpp = int(data.shape[0] / d4p.num_procs())\n",
    "    data = data[rpp * d4p.my_procid(): rpp * d4p.my_procid() + rpp, :]\n",
    "\n",
    "    # compute initial centroids\n",
    "    init_result = init_algo.compute(data)\n",
    "    # The results provides the initial centroids\n",
    "    assert init_result.centroids.shape[0] == nClusters\n",
    "\n",
    "    # configure kmeans main object\n",
    "    algo = d4p.kmeans(nClusters, maxIter, distributed=True)\n",
    "    # compute the clusters/centroids\n",
    "    result = algo.compute(data, init_result.centroids)\n",
    "\n",
    "    # Note: we could have done this in just one line:\n",
    "    # d4p.kmeans(nClusters, maxIter, assignFlag=True, distributed=True).compute(\n",
    "    #     data,\n",
    "    #     d4p.kmeans_init(\n",
    "    #         nClusters,\n",
    "    #         method=\"plusPlusDense\",\n",
    "    #         distributed=True\n",
    "    #     ).compute(data).centroids\n",
    "    # )\n",
    "\n",
    "    # Kmeans result objects provide centroids, goalFunction,\n",
    "    # nIterations and objectiveFunction\n",
    "    assert result.centroids.shape[0] == nClusters\n",
    "    assert result.nIterations <= maxIter\n",
    "    # we need an extra call to kmeans to get the assignments\n",
    "    # (not directly supported through parameter assignFlag yet in SPMD mode)\n",
    "    algo = d4p.kmeans(nClusters, 0, assignFlag=True)\n",
    "    # maxIt=0; not distributed, we compute on local data only!\n",
    "    assignments = algo.compute(data, result.centroids).assignments\n",
    "\n",
    "    return (assignments, result)\n",
    "\n",
    "\n",
    "if __name__ == \"__main__\":\n",
    "    # Initialize SPMD mode\n",
    "    d4p.daalinit()\n",
    "    (assignments, result) = main()\n",
    "    # result is available on all processes - but we print only on root\n",
    "    if d4p.my_procid() == 0:\n",
    "        print(\"\\nFirst 10 cluster assignments:\\n\", assignments[0:10])\n",
    "        print(\"\\nFirst 10 dimensions of centroids:\\n\", result.centroids[:, 0:10])\n",
    "        print(\"\\nObjective function value:\\n\", result.objectiveFunction)\n",
    "        print('All looks good!')\n",
    "    d4p.daalfini()    "
   ]
  },
  {
   "cell_type": "code",
   "execution_count": null,
   "id": "83e7ace4-6b46-497e-8954-701d926472e5",
   "metadata": {},
   "outputs": [],
   "source": [
    "'scikit-learn-intelex_Essentials/scikit-learn-intelex_Essentials/lab/kmeans_spmd.py'"
   ]
  },
  {
   "cell_type": "code",
   "execution_count": null,
   "id": "9040bb9c-2f1e-4641-999e-80740d13bba0",
   "metadata": {},
   "outputs": [],
   "source": []
  }
 ],
 "metadata": {
  "kernelspec": {
   "display_name": "Python 3.7 (Intel® oneAPI)",
   "language": "python",
   "name": "c009-intel_distribution_of_python_3_oneapi-beta05-python"
  },
  "language_info": {
   "codemirror_mode": {
    "name": "ipython",
    "version": 3
   },
   "file_extension": ".py",
   "mimetype": "text/x-python",
   "name": "python",
   "nbconvert_exporter": "python",
   "pygments_lexer": "ipython3",
   "version": "3.7.10"
  }
 },
 "nbformat": 4,
 "nbformat_minor": 5
}
